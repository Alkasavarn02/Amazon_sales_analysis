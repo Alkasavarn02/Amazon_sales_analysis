{
 "cells": [
  {
   "cell_type": "code",
   "execution_count": 25,
   "id": "007359ce-ec87-434e-be83-15b04268176d",
   "metadata": {},
   "outputs": [],
   "source": [
    "# Importing the necessary prerequisites for data analysis with pandas and numpy.\n",
    "\n",
    "import pandas as pd\n",
    "import numpy as np"
   ]
  },
  {
   "cell_type": "code",
   "execution_count": 26,
   "id": "ff8e5b86-15fe-473f-a260-eab8cac587b7",
   "metadata": {},
   "outputs": [],
   "source": [
    "# load the Required data\n",
    "\n",
    "df = pd.read_csv(\"Amazon Sales data.csv\")"
   ]
  },
  {
   "cell_type": "code",
   "execution_count": 27,
   "id": "35d3b246-a986-4b3b-b239-6a6f556934ef",
   "metadata": {},
   "outputs": [
    {
     "data": {
      "text/html": [
       "<div>\n",
       "<style scoped>\n",
       "    .dataframe tbody tr th:only-of-type {\n",
       "        vertical-align: middle;\n",
       "    }\n",
       "\n",
       "    .dataframe tbody tr th {\n",
       "        vertical-align: top;\n",
       "    }\n",
       "\n",
       "    .dataframe thead th {\n",
       "        text-align: right;\n",
       "    }\n",
       "</style>\n",
       "<table border=\"1\" class=\"dataframe\">\n",
       "  <thead>\n",
       "    <tr style=\"text-align: right;\">\n",
       "      <th></th>\n",
       "      <th>Region</th>\n",
       "      <th>Country</th>\n",
       "      <th>Item Type</th>\n",
       "      <th>Sales Channel</th>\n",
       "      <th>Order Priority</th>\n",
       "      <th>Order Date</th>\n",
       "      <th>Order ID</th>\n",
       "      <th>Ship Date</th>\n",
       "      <th>Units Sold</th>\n",
       "      <th>Unit Price</th>\n",
       "      <th>Unit Cost</th>\n",
       "      <th>Total Revenue</th>\n",
       "      <th>Total Cost</th>\n",
       "      <th>Total Profit</th>\n",
       "    </tr>\n",
       "  </thead>\n",
       "  <tbody>\n",
       "    <tr>\n",
       "      <th>0</th>\n",
       "      <td>Australia and Oceania</td>\n",
       "      <td>Tuvalu</td>\n",
       "      <td>Baby Food</td>\n",
       "      <td>Offline</td>\n",
       "      <td>H</td>\n",
       "      <td>5/28/2010</td>\n",
       "      <td>669165933</td>\n",
       "      <td>6/27/2010</td>\n",
       "      <td>9925</td>\n",
       "      <td>255.28</td>\n",
       "      <td>159.42</td>\n",
       "      <td>2533654.00</td>\n",
       "      <td>1582243.50</td>\n",
       "      <td>951410.50</td>\n",
       "    </tr>\n",
       "    <tr>\n",
       "      <th>1</th>\n",
       "      <td>Central America and the Caribbean</td>\n",
       "      <td>Grenada</td>\n",
       "      <td>Cereal</td>\n",
       "      <td>Online</td>\n",
       "      <td>C</td>\n",
       "      <td>8/22/2012</td>\n",
       "      <td>963881480</td>\n",
       "      <td>9/15/2012</td>\n",
       "      <td>2804</td>\n",
       "      <td>205.70</td>\n",
       "      <td>117.11</td>\n",
       "      <td>576782.80</td>\n",
       "      <td>328376.44</td>\n",
       "      <td>248406.36</td>\n",
       "    </tr>\n",
       "    <tr>\n",
       "      <th>2</th>\n",
       "      <td>Europe</td>\n",
       "      <td>Russia</td>\n",
       "      <td>Office Supplies</td>\n",
       "      <td>Offline</td>\n",
       "      <td>L</td>\n",
       "      <td>5/2/2014</td>\n",
       "      <td>341417157</td>\n",
       "      <td>5/8/2014</td>\n",
       "      <td>1779</td>\n",
       "      <td>651.21</td>\n",
       "      <td>524.96</td>\n",
       "      <td>1158502.59</td>\n",
       "      <td>933903.84</td>\n",
       "      <td>224598.75</td>\n",
       "    </tr>\n",
       "    <tr>\n",
       "      <th>3</th>\n",
       "      <td>Sub-Saharan Africa</td>\n",
       "      <td>Sao Tome and Principe</td>\n",
       "      <td>Fruits</td>\n",
       "      <td>Online</td>\n",
       "      <td>C</td>\n",
       "      <td>6/20/2014</td>\n",
       "      <td>514321792</td>\n",
       "      <td>7/5/2014</td>\n",
       "      <td>8102</td>\n",
       "      <td>9.33</td>\n",
       "      <td>6.92</td>\n",
       "      <td>75591.66</td>\n",
       "      <td>56065.84</td>\n",
       "      <td>19525.82</td>\n",
       "    </tr>\n",
       "    <tr>\n",
       "      <th>4</th>\n",
       "      <td>Sub-Saharan Africa</td>\n",
       "      <td>Rwanda</td>\n",
       "      <td>Office Supplies</td>\n",
       "      <td>Offline</td>\n",
       "      <td>L</td>\n",
       "      <td>2/1/2013</td>\n",
       "      <td>115456712</td>\n",
       "      <td>2/6/2013</td>\n",
       "      <td>5062</td>\n",
       "      <td>651.21</td>\n",
       "      <td>524.96</td>\n",
       "      <td>3296425.02</td>\n",
       "      <td>2657347.52</td>\n",
       "      <td>639077.50</td>\n",
       "    </tr>\n",
       "    <tr>\n",
       "      <th>5</th>\n",
       "      <td>Australia and Oceania</td>\n",
       "      <td>Solomon Islands</td>\n",
       "      <td>Baby Food</td>\n",
       "      <td>Online</td>\n",
       "      <td>C</td>\n",
       "      <td>2/4/2015</td>\n",
       "      <td>547995746</td>\n",
       "      <td>2/21/2015</td>\n",
       "      <td>2974</td>\n",
       "      <td>255.28</td>\n",
       "      <td>159.42</td>\n",
       "      <td>759202.72</td>\n",
       "      <td>474115.08</td>\n",
       "      <td>285087.64</td>\n",
       "    </tr>\n",
       "    <tr>\n",
       "      <th>6</th>\n",
       "      <td>Sub-Saharan Africa</td>\n",
       "      <td>Angola</td>\n",
       "      <td>Household</td>\n",
       "      <td>Offline</td>\n",
       "      <td>M</td>\n",
       "      <td>4/23/2011</td>\n",
       "      <td>135425221</td>\n",
       "      <td>4/27/2011</td>\n",
       "      <td>4187</td>\n",
       "      <td>668.27</td>\n",
       "      <td>502.54</td>\n",
       "      <td>2798046.49</td>\n",
       "      <td>2104134.98</td>\n",
       "      <td>693911.51</td>\n",
       "    </tr>\n",
       "    <tr>\n",
       "      <th>7</th>\n",
       "      <td>Sub-Saharan Africa</td>\n",
       "      <td>Burkina Faso</td>\n",
       "      <td>Vegetables</td>\n",
       "      <td>Online</td>\n",
       "      <td>H</td>\n",
       "      <td>7/17/2012</td>\n",
       "      <td>871543967</td>\n",
       "      <td>7/27/2012</td>\n",
       "      <td>8082</td>\n",
       "      <td>154.06</td>\n",
       "      <td>90.93</td>\n",
       "      <td>1245112.92</td>\n",
       "      <td>734896.26</td>\n",
       "      <td>510216.66</td>\n",
       "    </tr>\n",
       "    <tr>\n",
       "      <th>8</th>\n",
       "      <td>Sub-Saharan Africa</td>\n",
       "      <td>Republic of the Congo</td>\n",
       "      <td>Personal Care</td>\n",
       "      <td>Offline</td>\n",
       "      <td>M</td>\n",
       "      <td>7/14/2015</td>\n",
       "      <td>770463311</td>\n",
       "      <td>8/25/2015</td>\n",
       "      <td>6070</td>\n",
       "      <td>81.73</td>\n",
       "      <td>56.67</td>\n",
       "      <td>496101.10</td>\n",
       "      <td>343986.90</td>\n",
       "      <td>152114.20</td>\n",
       "    </tr>\n",
       "    <tr>\n",
       "      <th>9</th>\n",
       "      <td>Sub-Saharan Africa</td>\n",
       "      <td>Senegal</td>\n",
       "      <td>Cereal</td>\n",
       "      <td>Online</td>\n",
       "      <td>H</td>\n",
       "      <td>4/18/2014</td>\n",
       "      <td>616607081</td>\n",
       "      <td>5/30/2014</td>\n",
       "      <td>6593</td>\n",
       "      <td>205.70</td>\n",
       "      <td>117.11</td>\n",
       "      <td>1356180.10</td>\n",
       "      <td>772106.23</td>\n",
       "      <td>584073.87</td>\n",
       "    </tr>\n",
       "  </tbody>\n",
       "</table>\n",
       "</div>"
      ],
      "text/plain": [
       "                              Region                Country        Item Type  \\\n",
       "0              Australia and Oceania                 Tuvalu        Baby Food   \n",
       "1  Central America and the Caribbean                Grenada           Cereal   \n",
       "2                             Europe                 Russia  Office Supplies   \n",
       "3                 Sub-Saharan Africa  Sao Tome and Principe           Fruits   \n",
       "4                 Sub-Saharan Africa                 Rwanda  Office Supplies   \n",
       "5              Australia and Oceania        Solomon Islands        Baby Food   \n",
       "6                 Sub-Saharan Africa                 Angola        Household   \n",
       "7                 Sub-Saharan Africa           Burkina Faso       Vegetables   \n",
       "8                 Sub-Saharan Africa  Republic of the Congo    Personal Care   \n",
       "9                 Sub-Saharan Africa                Senegal           Cereal   \n",
       "\n",
       "  Sales Channel Order Priority Order Date   Order ID  Ship Date  Units Sold  \\\n",
       "0       Offline              H  5/28/2010  669165933  6/27/2010        9925   \n",
       "1        Online              C  8/22/2012  963881480  9/15/2012        2804   \n",
       "2       Offline              L   5/2/2014  341417157   5/8/2014        1779   \n",
       "3        Online              C  6/20/2014  514321792   7/5/2014        8102   \n",
       "4       Offline              L   2/1/2013  115456712   2/6/2013        5062   \n",
       "5        Online              C   2/4/2015  547995746  2/21/2015        2974   \n",
       "6       Offline              M  4/23/2011  135425221  4/27/2011        4187   \n",
       "7        Online              H  7/17/2012  871543967  7/27/2012        8082   \n",
       "8       Offline              M  7/14/2015  770463311  8/25/2015        6070   \n",
       "9        Online              H  4/18/2014  616607081  5/30/2014        6593   \n",
       "\n",
       "   Unit Price  Unit Cost  Total Revenue  Total Cost  Total Profit  \n",
       "0      255.28     159.42     2533654.00  1582243.50     951410.50  \n",
       "1      205.70     117.11      576782.80   328376.44     248406.36  \n",
       "2      651.21     524.96     1158502.59   933903.84     224598.75  \n",
       "3        9.33       6.92       75591.66    56065.84      19525.82  \n",
       "4      651.21     524.96     3296425.02  2657347.52     639077.50  \n",
       "5      255.28     159.42      759202.72   474115.08     285087.64  \n",
       "6      668.27     502.54     2798046.49  2104134.98     693911.51  \n",
       "7      154.06      90.93     1245112.92   734896.26     510216.66  \n",
       "8       81.73      56.67      496101.10   343986.90     152114.20  \n",
       "9      205.70     117.11     1356180.10   772106.23     584073.87  "
      ]
     },
     "execution_count": 27,
     "metadata": {},
     "output_type": "execute_result"
    }
   ],
   "source": [
    "df.head(10)"
   ]
  },
  {
   "cell_type": "code",
   "execution_count": 28,
   "id": "e186f765-8541-4ba1-bf3b-cb4e96fddac4",
   "metadata": {},
   "outputs": [
    {
     "data": {
      "text/html": [
       "<div>\n",
       "<style scoped>\n",
       "    .dataframe tbody tr th:only-of-type {\n",
       "        vertical-align: middle;\n",
       "    }\n",
       "\n",
       "    .dataframe tbody tr th {\n",
       "        vertical-align: top;\n",
       "    }\n",
       "\n",
       "    .dataframe thead th {\n",
       "        text-align: right;\n",
       "    }\n",
       "</style>\n",
       "<table border=\"1\" class=\"dataframe\">\n",
       "  <thead>\n",
       "    <tr style=\"text-align: right;\">\n",
       "      <th></th>\n",
       "      <th>Region</th>\n",
       "      <th>Country</th>\n",
       "      <th>Item Type</th>\n",
       "      <th>Sales Channel</th>\n",
       "      <th>Order Priority</th>\n",
       "      <th>Order Date</th>\n",
       "      <th>Order ID</th>\n",
       "      <th>Ship Date</th>\n",
       "      <th>Units Sold</th>\n",
       "      <th>Unit Price</th>\n",
       "      <th>Unit Cost</th>\n",
       "      <th>Total Revenue</th>\n",
       "      <th>Total Cost</th>\n",
       "      <th>Total Profit</th>\n",
       "    </tr>\n",
       "  </thead>\n",
       "  <tbody>\n",
       "    <tr>\n",
       "      <th>90</th>\n",
       "      <td>Sub-Saharan Africa</td>\n",
       "      <td>Sierra Leone</td>\n",
       "      <td>Office Supplies</td>\n",
       "      <td>Offline</td>\n",
       "      <td>H</td>\n",
       "      <td>12/6/2016</td>\n",
       "      <td>621386563</td>\n",
       "      <td>12/14/2016</td>\n",
       "      <td>948</td>\n",
       "      <td>651.21</td>\n",
       "      <td>524.96</td>\n",
       "      <td>617347.08</td>\n",
       "      <td>497662.08</td>\n",
       "      <td>119685.00</td>\n",
       "    </tr>\n",
       "    <tr>\n",
       "      <th>91</th>\n",
       "      <td>Australia and Oceania</td>\n",
       "      <td>Australia</td>\n",
       "      <td>Beverages</td>\n",
       "      <td>Offline</td>\n",
       "      <td>H</td>\n",
       "      <td>7/7/2014</td>\n",
       "      <td>240470397</td>\n",
       "      <td>7/11/2014</td>\n",
       "      <td>9389</td>\n",
       "      <td>47.45</td>\n",
       "      <td>31.79</td>\n",
       "      <td>445508.05</td>\n",
       "      <td>298476.31</td>\n",
       "      <td>147031.74</td>\n",
       "    </tr>\n",
       "    <tr>\n",
       "      <th>92</th>\n",
       "      <td>Middle East and North Africa</td>\n",
       "      <td>Azerbaijan</td>\n",
       "      <td>Office Supplies</td>\n",
       "      <td>Online</td>\n",
       "      <td>M</td>\n",
       "      <td>6/13/2012</td>\n",
       "      <td>423331391</td>\n",
       "      <td>7/24/2012</td>\n",
       "      <td>2021</td>\n",
       "      <td>651.21</td>\n",
       "      <td>524.96</td>\n",
       "      <td>1316095.41</td>\n",
       "      <td>1060944.16</td>\n",
       "      <td>255151.25</td>\n",
       "    </tr>\n",
       "    <tr>\n",
       "      <th>93</th>\n",
       "      <td>Europe</td>\n",
       "      <td>Romania</td>\n",
       "      <td>Cosmetics</td>\n",
       "      <td>Online</td>\n",
       "      <td>H</td>\n",
       "      <td>11/26/2010</td>\n",
       "      <td>660643374</td>\n",
       "      <td>12/25/2010</td>\n",
       "      <td>7910</td>\n",
       "      <td>437.20</td>\n",
       "      <td>263.33</td>\n",
       "      <td>3458252.00</td>\n",
       "      <td>2082940.30</td>\n",
       "      <td>1375311.70</td>\n",
       "    </tr>\n",
       "    <tr>\n",
       "      <th>94</th>\n",
       "      <td>Central America and the Caribbean</td>\n",
       "      <td>Nicaragua</td>\n",
       "      <td>Beverages</td>\n",
       "      <td>Offline</td>\n",
       "      <td>C</td>\n",
       "      <td>2/8/2011</td>\n",
       "      <td>963392674</td>\n",
       "      <td>3/21/2011</td>\n",
       "      <td>8156</td>\n",
       "      <td>47.45</td>\n",
       "      <td>31.79</td>\n",
       "      <td>387002.20</td>\n",
       "      <td>259279.24</td>\n",
       "      <td>127722.96</td>\n",
       "    </tr>\n",
       "    <tr>\n",
       "      <th>95</th>\n",
       "      <td>Sub-Saharan Africa</td>\n",
       "      <td>Mali</td>\n",
       "      <td>Clothes</td>\n",
       "      <td>Online</td>\n",
       "      <td>M</td>\n",
       "      <td>7/26/2011</td>\n",
       "      <td>512878119</td>\n",
       "      <td>9/3/2011</td>\n",
       "      <td>888</td>\n",
       "      <td>109.28</td>\n",
       "      <td>35.84</td>\n",
       "      <td>97040.64</td>\n",
       "      <td>31825.92</td>\n",
       "      <td>65214.72</td>\n",
       "    </tr>\n",
       "    <tr>\n",
       "      <th>96</th>\n",
       "      <td>Asia</td>\n",
       "      <td>Malaysia</td>\n",
       "      <td>Fruits</td>\n",
       "      <td>Offline</td>\n",
       "      <td>L</td>\n",
       "      <td>11/11/2011</td>\n",
       "      <td>810711038</td>\n",
       "      <td>12/28/2011</td>\n",
       "      <td>6267</td>\n",
       "      <td>9.33</td>\n",
       "      <td>6.92</td>\n",
       "      <td>58471.11</td>\n",
       "      <td>43367.64</td>\n",
       "      <td>15103.47</td>\n",
       "    </tr>\n",
       "    <tr>\n",
       "      <th>97</th>\n",
       "      <td>Sub-Saharan Africa</td>\n",
       "      <td>Sierra Leone</td>\n",
       "      <td>Vegetables</td>\n",
       "      <td>Offline</td>\n",
       "      <td>C</td>\n",
       "      <td>6/1/2016</td>\n",
       "      <td>728815257</td>\n",
       "      <td>6/29/2016</td>\n",
       "      <td>1485</td>\n",
       "      <td>154.06</td>\n",
       "      <td>90.93</td>\n",
       "      <td>228779.10</td>\n",
       "      <td>135031.05</td>\n",
       "      <td>93748.05</td>\n",
       "    </tr>\n",
       "    <tr>\n",
       "      <th>98</th>\n",
       "      <td>North America</td>\n",
       "      <td>Mexico</td>\n",
       "      <td>Personal Care</td>\n",
       "      <td>Offline</td>\n",
       "      <td>M</td>\n",
       "      <td>7/30/2015</td>\n",
       "      <td>559427106</td>\n",
       "      <td>8/8/2015</td>\n",
       "      <td>5767</td>\n",
       "      <td>81.73</td>\n",
       "      <td>56.67</td>\n",
       "      <td>471336.91</td>\n",
       "      <td>326815.89</td>\n",
       "      <td>144521.02</td>\n",
       "    </tr>\n",
       "    <tr>\n",
       "      <th>99</th>\n",
       "      <td>Sub-Saharan Africa</td>\n",
       "      <td>Mozambique</td>\n",
       "      <td>Household</td>\n",
       "      <td>Offline</td>\n",
       "      <td>L</td>\n",
       "      <td>2/10/2012</td>\n",
       "      <td>665095412</td>\n",
       "      <td>2/15/2012</td>\n",
       "      <td>5367</td>\n",
       "      <td>668.27</td>\n",
       "      <td>502.54</td>\n",
       "      <td>3586605.09</td>\n",
       "      <td>2697132.18</td>\n",
       "      <td>889472.91</td>\n",
       "    </tr>\n",
       "  </tbody>\n",
       "</table>\n",
       "</div>"
      ],
      "text/plain": [
       "                               Region       Country        Item Type  \\\n",
       "90                 Sub-Saharan Africa  Sierra Leone  Office Supplies   \n",
       "91              Australia and Oceania     Australia        Beverages   \n",
       "92       Middle East and North Africa    Azerbaijan  Office Supplies   \n",
       "93                             Europe       Romania        Cosmetics   \n",
       "94  Central America and the Caribbean     Nicaragua        Beverages   \n",
       "95                 Sub-Saharan Africa          Mali          Clothes   \n",
       "96                               Asia      Malaysia           Fruits   \n",
       "97                 Sub-Saharan Africa  Sierra Leone       Vegetables   \n",
       "98                      North America        Mexico    Personal Care   \n",
       "99                 Sub-Saharan Africa    Mozambique        Household   \n",
       "\n",
       "   Sales Channel Order Priority  Order Date   Order ID   Ship Date  \\\n",
       "90       Offline              H   12/6/2016  621386563  12/14/2016   \n",
       "91       Offline              H    7/7/2014  240470397   7/11/2014   \n",
       "92        Online              M   6/13/2012  423331391   7/24/2012   \n",
       "93        Online              H  11/26/2010  660643374  12/25/2010   \n",
       "94       Offline              C    2/8/2011  963392674   3/21/2011   \n",
       "95        Online              M   7/26/2011  512878119    9/3/2011   \n",
       "96       Offline              L  11/11/2011  810711038  12/28/2011   \n",
       "97       Offline              C    6/1/2016  728815257   6/29/2016   \n",
       "98       Offline              M   7/30/2015  559427106    8/8/2015   \n",
       "99       Offline              L   2/10/2012  665095412   2/15/2012   \n",
       "\n",
       "    Units Sold  Unit Price  Unit Cost  Total Revenue  Total Cost  Total Profit  \n",
       "90         948      651.21     524.96      617347.08   497662.08     119685.00  \n",
       "91        9389       47.45      31.79      445508.05   298476.31     147031.74  \n",
       "92        2021      651.21     524.96     1316095.41  1060944.16     255151.25  \n",
       "93        7910      437.20     263.33     3458252.00  2082940.30    1375311.70  \n",
       "94        8156       47.45      31.79      387002.20   259279.24     127722.96  \n",
       "95         888      109.28      35.84       97040.64    31825.92      65214.72  \n",
       "96        6267        9.33       6.92       58471.11    43367.64      15103.47  \n",
       "97        1485      154.06      90.93      228779.10   135031.05      93748.05  \n",
       "98        5767       81.73      56.67      471336.91   326815.89     144521.02  \n",
       "99        5367      668.27     502.54     3586605.09  2697132.18     889472.91  "
      ]
     },
     "execution_count": 28,
     "metadata": {},
     "output_type": "execute_result"
    }
   ],
   "source": [
    "df.tail(10)"
   ]
  },
  {
   "cell_type": "code",
   "execution_count": 29,
   "id": "6cc438e6-3858-4d07-a748-cfe207853851",
   "metadata": {},
   "outputs": [
    {
     "data": {
      "text/plain": [
       "(100, 14)"
      ]
     },
     "execution_count": 29,
     "metadata": {},
     "output_type": "execute_result"
    }
   ],
   "source": [
    "# check the shape of the data.\n",
    "df.shape"
   ]
  },
  {
   "cell_type": "code",
   "execution_count": 30,
   "id": "8fbba46a-eb88-41d6-8381-833e47a881db",
   "metadata": {},
   "outputs": [
    {
     "name": "stdout",
     "output_type": "stream",
     "text": [
      "<class 'pandas.core.frame.DataFrame'>\n",
      "RangeIndex: 100 entries, 0 to 99\n",
      "Data columns (total 14 columns):\n",
      " #   Column          Non-Null Count  Dtype  \n",
      "---  ------          --------------  -----  \n",
      " 0   Region          100 non-null    object \n",
      " 1   Country         100 non-null    object \n",
      " 2   Item Type       100 non-null    object \n",
      " 3   Sales Channel   100 non-null    object \n",
      " 4   Order Priority  100 non-null    object \n",
      " 5   Order Date      100 non-null    object \n",
      " 6   Order ID        100 non-null    int64  \n",
      " 7   Ship Date       100 non-null    object \n",
      " 8   Units Sold      100 non-null    int64  \n",
      " 9   Unit Price      100 non-null    float64\n",
      " 10  Unit Cost       100 non-null    float64\n",
      " 11  Total Revenue   100 non-null    float64\n",
      " 12  Total Cost      100 non-null    float64\n",
      " 13  Total Profit    100 non-null    float64\n",
      "dtypes: float64(5), int64(2), object(7)\n",
      "memory usage: 11.1+ KB\n"
     ]
    }
   ],
   "source": [
    "# check the basic information of the data.\n",
    "\n",
    "df.info() "
   ]
  },
  {
   "cell_type": "code",
   "execution_count": 31,
   "id": "cd5945ab-ffb2-456d-b2ea-6c88551d1d5b",
   "metadata": {},
   "outputs": [],
   "source": [
    "#Convert columns to their required categorical and date types.\n",
    "    \n",
    "df['Item Type'] = df['Item Type'].astype('category')\n",
    "df['Sales Channel'] = df['Sales Channel'].astype('category')\n",
    "df['Order Priority'] = df['Order Priority'].astype('category')\n",
    "df['Order Date'] = pd.to_datetime(df['Order Date'])\n",
    "df['Ship Date'] = pd.to_datetime(df['Ship Date'])"
   ]
  },
  {
   "cell_type": "code",
   "execution_count": 32,
   "id": "0b2aa633-793c-402c-8864-b402e03ae16b",
   "metadata": {},
   "outputs": [
    {
     "name": "stdout",
     "output_type": "stream",
     "text": [
      "<class 'pandas.core.frame.DataFrame'>\n",
      "RangeIndex: 100 entries, 0 to 99\n",
      "Data columns (total 14 columns):\n",
      " #   Column          Non-Null Count  Dtype         \n",
      "---  ------          --------------  -----         \n",
      " 0   Region          100 non-null    object        \n",
      " 1   Country         100 non-null    object        \n",
      " 2   Item Type       100 non-null    category      \n",
      " 3   Sales Channel   100 non-null    category      \n",
      " 4   Order Priority  100 non-null    category      \n",
      " 5   Order Date      100 non-null    datetime64[ns]\n",
      " 6   Order ID        100 non-null    int64         \n",
      " 7   Ship Date       100 non-null    datetime64[ns]\n",
      " 8   Units Sold      100 non-null    int64         \n",
      " 9   Unit Price      100 non-null    float64       \n",
      " 10  Unit Cost       100 non-null    float64       \n",
      " 11  Total Revenue   100 non-null    float64       \n",
      " 12  Total Cost      100 non-null    float64       \n",
      " 13  Total Profit    100 non-null    float64       \n",
      "dtypes: category(3), datetime64[ns](2), float64(5), int64(2), object(2)\n",
      "memory usage: 9.7+ KB\n"
     ]
    }
   ],
   "source": [
    "# check the updated dataframe.\n",
    "\n",
    "df.info()"
   ]
  },
  {
   "cell_type": "code",
   "execution_count": 33,
   "id": "307daba3-72cc-4266-b20e-d156c89a031f",
   "metadata": {},
   "outputs": [
    {
     "data": {
      "text/plain": [
       "Region\n",
       "Sub-Saharan Africa                   36\n",
       "Europe                               22\n",
       "Australia and Oceania                11\n",
       "Asia                                 11\n",
       "Middle East and North Africa         10\n",
       "Central America and the Caribbean     7\n",
       "North America                         3\n",
       "Name: count, dtype: int64"
      ]
     },
     "execution_count": 33,
     "metadata": {},
     "output_type": "execute_result"
    }
   ],
   "source": [
    "# Count the occurrences of each value in the 'Region' column.\n",
    "df['Region'].value_counts()"
   ]
  },
  {
   "cell_type": "markdown",
   "id": "1ae8caac-afde-43b6-b60b-c634c1ea7c7f",
   "metadata": {},
   "source": [
    "1. Calculate the total revenue for each region and sort in descending order."
   ]
  },
  {
   "cell_type": "code",
   "execution_count": 34,
   "id": "29220b34-c0e2-4de9-ae96-fd180968ad04",
   "metadata": {},
   "outputs": [],
   "source": [
    "Total_revenue_region_wise = df.groupby('Region')['Total Revenue'].sum().sort_values(ascending=False)"
   ]
  },
  {
   "cell_type": "markdown",
   "id": "0f40564f-d6ba-4487-9ed3-fc4f3b49f976",
   "metadata": {},
   "source": [
    "2. Calculate the total revenue for each region and country combination, sort in descending order, and reset the index"
   ]
  },
  {
   "cell_type": "code",
   "execution_count": 35,
   "id": "13f0cb2a-d45f-4988-aa11-61afb9c4845d",
   "metadata": {},
   "outputs": [
    {
     "data": {
      "text/html": [
       "<div>\n",
       "<style scoped>\n",
       "    .dataframe tbody tr th:only-of-type {\n",
       "        vertical-align: middle;\n",
       "    }\n",
       "\n",
       "    .dataframe tbody tr th {\n",
       "        vertical-align: top;\n",
       "    }\n",
       "\n",
       "    .dataframe thead th {\n",
       "        text-align: right;\n",
       "    }\n",
       "</style>\n",
       "<table border=\"1\" class=\"dataframe\">\n",
       "  <thead>\n",
       "    <tr style=\"text-align: right;\">\n",
       "      <th></th>\n",
       "      <th>Region</th>\n",
       "      <th>Country</th>\n",
       "      <th>Total Revenue</th>\n",
       "    </tr>\n",
       "  </thead>\n",
       "  <tbody>\n",
       "    <tr>\n",
       "      <th>0</th>\n",
       "      <td>Central America and the Caribbean</td>\n",
       "      <td>Honduras</td>\n",
       "      <td>6336545.48</td>\n",
       "    </tr>\n",
       "    <tr>\n",
       "      <th>1</th>\n",
       "      <td>Asia</td>\n",
       "      <td>Myanmar</td>\n",
       "      <td>6161257.90</td>\n",
       "    </tr>\n",
       "    <tr>\n",
       "      <th>2</th>\n",
       "      <td>Sub-Saharan Africa</td>\n",
       "      <td>Djibouti</td>\n",
       "      <td>6052890.86</td>\n",
       "    </tr>\n",
       "    <tr>\n",
       "      <th>3</th>\n",
       "      <td>Asia</td>\n",
       "      <td>Turkmenistan</td>\n",
       "      <td>5822036.20</td>\n",
       "    </tr>\n",
       "    <tr>\n",
       "      <th>4</th>\n",
       "      <td>North America</td>\n",
       "      <td>Mexico</td>\n",
       "      <td>5643356.55</td>\n",
       "    </tr>\n",
       "    <tr>\n",
       "      <th>...</th>\n",
       "      <td>...</td>\n",
       "      <td>...</td>\n",
       "      <td>...</td>\n",
       "    </tr>\n",
       "    <tr>\n",
       "      <th>71</th>\n",
       "      <td>Middle East and North Africa</td>\n",
       "      <td>Syria</td>\n",
       "      <td>35304.72</td>\n",
       "    </tr>\n",
       "    <tr>\n",
       "      <th>72</th>\n",
       "      <td>Europe</td>\n",
       "      <td>Slovakia</td>\n",
       "      <td>26344.26</td>\n",
       "    </tr>\n",
       "    <tr>\n",
       "      <th>73</th>\n",
       "      <td>Australia and Oceania</td>\n",
       "      <td>New Zealand</td>\n",
       "      <td>20404.71</td>\n",
       "    </tr>\n",
       "    <tr>\n",
       "      <th>74</th>\n",
       "      <td>Asia</td>\n",
       "      <td>Kyrgyzstan</td>\n",
       "      <td>19103.44</td>\n",
       "    </tr>\n",
       "    <tr>\n",
       "      <th>75</th>\n",
       "      <td>Middle East and North Africa</td>\n",
       "      <td>Kuwait</td>\n",
       "      <td>4870.26</td>\n",
       "    </tr>\n",
       "  </tbody>\n",
       "</table>\n",
       "<p>76 rows × 3 columns</p>\n",
       "</div>"
      ],
      "text/plain": [
       "                               Region       Country  Total Revenue\n",
       "0   Central America and the Caribbean      Honduras     6336545.48\n",
       "1                                Asia       Myanmar     6161257.90\n",
       "2                  Sub-Saharan Africa      Djibouti     6052890.86\n",
       "3                                Asia  Turkmenistan     5822036.20\n",
       "4                       North America        Mexico     5643356.55\n",
       "..                                ...           ...            ...\n",
       "71       Middle East and North Africa         Syria       35304.72\n",
       "72                             Europe      Slovakia       26344.26\n",
       "73              Australia and Oceania   New Zealand       20404.71\n",
       "74                               Asia    Kyrgyzstan       19103.44\n",
       "75       Middle East and North Africa        Kuwait        4870.26\n",
       "\n",
       "[76 rows x 3 columns]"
      ]
     },
     "execution_count": 35,
     "metadata": {},
     "output_type": "execute_result"
    }
   ],
   "source": [
    "total_revenue_region_country_wise = df.groupby(['Region','Country'])['Total Revenue'].sum().sort_values(ascending=False).reset_index()\n",
    "total_revenue_region_country_wise"
   ]
  },
  {
   "cell_type": "markdown",
   "id": "6f8922b5-0ff3-4a89-9f71-64d0beda468a",
   "metadata": {},
   "source": [
    "3.Calculate the total units sold for each item type and sort in descending order."
   ]
  },
  {
   "cell_type": "code",
   "execution_count": 36,
   "id": "2df73641-959c-4b8e-ac06-9dab006abdca",
   "metadata": {},
   "outputs": [
    {
     "name": "stderr",
     "output_type": "stream",
     "text": [
      "C:\\Users\\ankit\\AppData\\Local\\Temp\\ipykernel_19744\\3801883858.py:1: FutureWarning: The default of observed=False is deprecated and will be changed to True in a future version of pandas. Pass observed=False to retain current behavior or observed=True to adopt the future default and silence this warning.\n",
      "  total_units_sold_by_Item_type = df.groupby(['Item Type'])['Units Sold'].sum().sort_values(ascending=False)\n"
     ]
    },
    {
     "data": {
      "text/plain": [
       "Item Type\n",
       "Cosmetics          83718\n",
       "Clothes            71260\n",
       "Beverages          56708\n",
       "Fruits             49998\n",
       "Personal Care      48708\n",
       "Office Supplies    46967\n",
       "Household          44727\n",
       "Baby Food          40545\n",
       "Cereal             25877\n",
       "Vegetables         20051\n",
       "Snacks             13637\n",
       "Meat               10675\n",
       "Name: Units Sold, dtype: int64"
      ]
     },
     "execution_count": 36,
     "metadata": {},
     "output_type": "execute_result"
    }
   ],
   "source": [
    "total_units_sold_by_Item_type = df.groupby(['Item Type'])['Units Sold'].sum().sort_values(ascending=False)\n",
    "total_units_sold_by_Item_type"
   ]
  },
  {
   "cell_type": "markdown",
   "id": "163b6392-e484-41ad-9d31-89f2c623639d",
   "metadata": {},
   "source": [
    "4. Calculate the total revenue for each item type and sort in descending order."
   ]
  },
  {
   "cell_type": "code",
   "execution_count": 37,
   "id": "bc87249c-cc22-4aff-a76e-b427eb848a0a",
   "metadata": {},
   "outputs": [
    {
     "name": "stderr",
     "output_type": "stream",
     "text": [
      "C:\\Users\\ankit\\AppData\\Local\\Temp\\ipykernel_19744\\1435943919.py:1: FutureWarning: The default of observed=False is deprecated and will be changed to True in a future version of pandas. Pass observed=False to retain current behavior or observed=True to adopt the future default and silence this warning.\n",
      "  total_revenue_by_Item_type = df.groupby(['Item Type'])['Total Revenue'].sum().sort_values(ascending=False)\n"
     ]
    },
    {
     "data": {
      "text/plain": [
       "Item Type\n",
       "Cosmetics          36601509.60\n",
       "Office Supplies    30585380.07\n",
       "Household          29889712.29\n",
       "Baby Food          10350327.60\n",
       "Clothes             7787292.80\n",
       "Cereal              5322898.90\n",
       "Meat                4503675.75\n",
       "Personal Care       3980904.84\n",
       "Vegetables          3089057.06\n",
       "Beverages           2690794.60\n",
       "Snacks              2080733.46\n",
       "Fruits               466481.34\n",
       "Name: Total Revenue, dtype: float64"
      ]
     },
     "execution_count": 37,
     "metadata": {},
     "output_type": "execute_result"
    }
   ],
   "source": [
    "total_revenue_by_Item_type = df.groupby(['Item Type'])['Total Revenue'].sum().sort_values(ascending=False)\n",
    "total_revenue_by_Item_type"
   ]
  },
  {
   "cell_type": "markdown",
   "id": "8c5c96f4-8354-49e5-bfb5-6d516deb0ea2",
   "metadata": {},
   "source": [
    "5.Calculate the total profit for each item type and sort in descending order."
   ]
  },
  {
   "cell_type": "code",
   "execution_count": 38,
   "id": "daa2f507-ab4b-4f8e-ab4d-31492b008e0b",
   "metadata": {},
   "outputs": [
    {
     "name": "stderr",
     "output_type": "stream",
     "text": [
      "C:\\Users\\ankit\\AppData\\Local\\Temp\\ipykernel_19744\\1300850833.py:1: FutureWarning: The default of observed=False is deprecated and will be changed to True in a future version of pandas. Pass observed=False to retain current behavior or observed=True to adopt the future default and silence this warning.\n",
      "  df.groupby(['Item Type'])['Total Profit'].sum().sort_values(ascending=False)\n"
     ]
    },
    {
     "data": {
      "text/plain": [
       "Item Type\n",
       "Cosmetics          14556048.66\n",
       "Household           7412605.71\n",
       "Office Supplies     5929583.75\n",
       "Clothes             5233334.40\n",
       "Baby Food           3886643.70\n",
       "Cereal              2292443.43\n",
       "Vegetables          1265819.63\n",
       "Personal Care       1220622.48\n",
       "Beverages            888047.28\n",
       "Snacks               751944.18\n",
       "Meat                 610610.00\n",
       "Fruits               120495.18\n",
       "Name: Total Profit, dtype: float64"
      ]
     },
     "execution_count": 38,
     "metadata": {},
     "output_type": "execute_result"
    }
   ],
   "source": [
    "df.groupby(['Item Type'])['Total Profit'].sum().sort_values(ascending=False)"
   ]
  },
  {
   "cell_type": "markdown",
   "id": "944c8cb4-f4d2-4c20-abc3-2497f1811119",
   "metadata": {},
   "source": [
    "6.Calculate the total revenue for each sales channel."
   ]
  },
  {
   "cell_type": "code",
   "execution_count": 39,
   "id": "4a4c7757-b6e4-4cff-a890-e64e5f9e3dbd",
   "metadata": {},
   "outputs": [
    {
     "name": "stderr",
     "output_type": "stream",
     "text": [
      "C:\\Users\\ankit\\AppData\\Local\\Temp\\ipykernel_19744\\3134357026.py:1: FutureWarning: The default of observed=False is deprecated and will be changed to True in a future version of pandas. Pass observed=False to retain current behavior or observed=True to adopt the future default and silence this warning.\n",
      "  df.groupby('Sales Channel')['Total Revenue'].sum()\n"
     ]
    },
    {
     "data": {
      "text/plain": [
       "Sales Channel\n",
       "Offline    79094809.20\n",
       "Online     58253959.11\n",
       "Name: Total Revenue, dtype: float64"
      ]
     },
     "execution_count": 39,
     "metadata": {},
     "output_type": "execute_result"
    }
   ],
   "source": [
    "df.groupby('Sales Channel')['Total Revenue'].sum()"
   ]
  },
  {
   "cell_type": "markdown",
   "id": "4d15a5fd-81e5-48e4-9b10-1b36d96ced11",
   "metadata": {},
   "source": [
    "7. Calculate the total profit for each sales channel."
   ]
  },
  {
   "cell_type": "code",
   "execution_count": 40,
   "id": "5c38f911-460f-481a-81e3-63e205b9ff97",
   "metadata": {},
   "outputs": [
    {
     "name": "stderr",
     "output_type": "stream",
     "text": [
      "C:\\Users\\ankit\\AppData\\Local\\Temp\\ipykernel_19744\\2762136476.py:1: FutureWarning: The default of observed=False is deprecated and will be changed to True in a future version of pandas. Pass observed=False to retain current behavior or observed=True to adopt the future default and silence this warning.\n",
      "  df.groupby('Sales Channel')['Total Profit'].sum()\n"
     ]
    },
    {
     "data": {
      "text/plain": [
       "Sales Channel\n",
       "Offline    24920726.67\n",
       "Online     19247471.73\n",
       "Name: Total Profit, dtype: float64"
      ]
     },
     "execution_count": 40,
     "metadata": {},
     "output_type": "execute_result"
    }
   ],
   "source": [
    "df.groupby('Sales Channel')['Total Profit'].sum()"
   ]
  },
  {
   "cell_type": "markdown",
   "id": "ccef4f37-4849-4306-ab22-225e776cb406",
   "metadata": {},
   "source": [
    "8. Calculate the total units sold for each combination of sales channel and item type, and sort in descending order."
   ]
  },
  {
   "cell_type": "code",
   "execution_count": 41,
   "id": "50696c96-c7ae-4d08-ae79-069e2f301f13",
   "metadata": {},
   "outputs": [
    {
     "name": "stderr",
     "output_type": "stream",
     "text": [
      "C:\\Users\\ankit\\AppData\\Local\\Temp\\ipykernel_19744\\3719431817.py:1: FutureWarning: The default of observed=False is deprecated and will be changed to True in a future version of pandas. Pass observed=False to retain current behavior or observed=True to adopt the future default and silence this warning.\n",
      "  df.groupby(['Sales Channel','Item Type'])[\"Units Sold\"].sum().sort_values(ascending=False)\n"
     ]
    },
    {
     "data": {
      "text/plain": [
       "Sales Channel  Item Type      \n",
       "Offline        Household          44445\n",
       "Online         Cosmetics          41969\n",
       "Offline        Cosmetics          41749\n",
       "               Beverages          41588\n",
       "               Clothes            40871\n",
       "               Personal Care      40350\n",
       "Online         Fruits             36094\n",
       "               Clothes            30389\n",
       "               Office Supplies    26168\n",
       "Offline        Baby Food          24098\n",
       "Online         Cereal             22116\n",
       "Offline        Office Supplies    20799\n",
       "Online         Baby Food          16447\n",
       "               Beverages          15120\n",
       "               Vegetables         14834\n",
       "Offline        Fruits             13904\n",
       "Online         Snacks             13637\n",
       "               Meat               10675\n",
       "               Personal Care       8358\n",
       "Offline        Vegetables          5217\n",
       "               Cereal              3761\n",
       "Online         Household            282\n",
       "Offline        Snacks                 0\n",
       "               Meat                   0\n",
       "Name: Units Sold, dtype: int64"
      ]
     },
     "execution_count": 41,
     "metadata": {},
     "output_type": "execute_result"
    }
   ],
   "source": [
    "df.groupby(['Sales Channel','Item Type'])[\"Units Sold\"].sum().sort_values(ascending=False)"
   ]
  },
  {
   "cell_type": "markdown",
   "id": "66117aec-51be-4546-8ffd-bf3ed52938fa",
   "metadata": {},
   "source": [
    "9. Define a function to calculate the total units sold for each item type in a specific year. In this case, the function is applied to the year 2014."
   ]
  },
  {
   "cell_type": "code",
   "execution_count": 42,
   "id": "fd695602-9f9e-4a87-a959-0b23702a95f3",
   "metadata": {},
   "outputs": [
    {
     "name": "stderr",
     "output_type": "stream",
     "text": [
      "C:\\Users\\ankit\\AppData\\Local\\Temp\\ipykernel_19744\\1459873428.py:4: FutureWarning: The default of observed=False is deprecated and will be changed to True in a future version of pandas. Pass observed=False to retain current behavior or observed=True to adopt the future default and silence this warning.\n",
      "  return new_df.groupby('Item Type')['Units Sold'].sum().sort_values(ascending=False)\n"
     ]
    },
    {
     "data": {
      "text/plain": [
       "Item Type\n",
       "Beverages          23892\n",
       "Fruits             15687\n",
       "Baby Food          13009\n",
       "Clothes            12010\n",
       "Cosmetics           7215\n",
       "Household           6954\n",
       "Cereal              6593\n",
       "Personal Care       4901\n",
       "Office Supplies     1779\n",
       "Meat                   0\n",
       "Snacks                 0\n",
       "Vegetables             0\n",
       "Name: Units Sold, dtype: int64"
      ]
     },
     "execution_count": 42,
     "metadata": {},
     "output_type": "execute_result"
    }
   ],
   "source": [
    "def year_wise_unit_sold(year):\n",
    "    new_df = df[df['Order Date'].dt.year == year]\n",
    "\n",
    "    return new_df.groupby('Item Type')['Units Sold'].sum().sort_values(ascending=False)\n",
    "\n",
    "year_wise_unit_sold(2014)"
   ]
  },
  {
   "cell_type": "markdown",
   "id": "5e773556-72cc-4def-9431-76a68c101cee",
   "metadata": {},
   "source": [
    "10. Define a function to calculate the total units sold for each combination of region, country, and item type in a specific year. The function is applied to the year 2015."
   ]
  },
  {
   "cell_type": "code",
   "execution_count": 43,
   "id": "80c0823e-ccb1-4586-8824-e1c4c54762b8",
   "metadata": {},
   "outputs": [
    {
     "name": "stderr",
     "output_type": "stream",
     "text": [
      "C:\\Users\\ankit\\AppData\\Local\\Temp\\ipykernel_19744\\1187618986.py:4: FutureWarning: The default of observed=False is deprecated and will be changed to True in a future version of pandas. Pass observed=False to retain current behavior or observed=True to adopt the future default and silence this warning.\n",
      "  return new_df.groupby([\"Region\",\"Country\",'Item Type'])['Units Sold'].sum().sort_values(ascending=False)\n"
     ]
    },
    {
     "data": {
      "text/plain": [
       "Region              Country                Item Type    \n",
       "Asia                Myanmar                Household        8250\n",
       "Sub-Saharan Africa  Madagascar             Clothes          7342\n",
       "                    Republic of the Congo  Personal Care    6070\n",
       "Asia                Myanmar                Clothes          5930\n",
       "North America       Mexico                 Personal Care    5767\n",
       "                                                            ... \n",
       "Europe              Australia              Cosmetics           0\n",
       "                                           Fruits              0\n",
       "                                           Household           0\n",
       "                                           Meat                0\n",
       "Sub-Saharan Africa  Solomon Islands        Vegetables          0\n",
       "Name: Units Sold, Length: 720, dtype: int64"
      ]
     },
     "execution_count": 43,
     "metadata": {},
     "output_type": "execute_result"
    }
   ],
   "source": [
    "def year_wise_unit_sold(year):\n",
    "    new_df = df[df['Order Date'].dt.year == year]\n",
    "\n",
    "    return new_df.groupby([\"Region\",\"Country\",'Item Type'])['Units Sold'].sum().sort_values(ascending=False)\n",
    "\n",
    "year_wise_unit_sold(2015)"
   ]
  },
  {
   "cell_type": "markdown",
   "id": "3f42194c-266e-45de-8524-029cc38d92c1",
   "metadata": {},
   "source": [
    "11. Define a function to calculate the total profit for each combination of region and country in a specific year. The function is applied to the year 2012."
   ]
  },
  {
   "cell_type": "markdown",
   "id": "ad8ed732-047b-4338-a87f-f36c2d74f6d7",
   "metadata": {},
   "source": [
    "def year_wise_unit_sold(year):\n",
    "    new_df = df[df['Order Date'].dt.year == year]\n",
    "\n",
    "    return new_df.groupby(['Region',\"Country\"])['Total Profit'].sum().sort_values(ascending=False)\n",
    "\n",
    "year_wise_unit_sold(2012)"
   ]
  },
  {
   "cell_type": "code",
   "execution_count": 45,
   "id": "0e222af3-96aa-4006-a551-aa44caf729ad",
   "metadata": {},
   "outputs": [
    {
     "name": "stderr",
     "output_type": "stream",
     "text": [
      "C:\\Users\\ankit\\AppData\\Local\\Temp\\ipykernel_19744\\3366190867.py:4: FutureWarning: The default of observed=False is deprecated and will be changed to True in a future version of pandas. Pass observed=False to retain current behavior or observed=True to adopt the future default and silence this warning.\n",
      "  return new_df.groupby(['Region',\"Country\",'Item Type'])['Total Profit'].sum().sort_values(ascending=False)\n"
     ]
    },
    {
     "data": {
      "text/plain": [
       "Region                             Country     Item Type \n",
       "Central America and the Caribbean  Honduras    Household     1487261.02\n",
       "Sub-Saharan Africa                 Djibouti    Cereal         766835.04\n",
       "Asia                               Bangladesh  Clothes        606834.72\n",
       "Sub-Saharan Africa                 Djibouti    Snacks         404010.78\n",
       "Europe                             France      Cosmetics      315574.05\n",
       "                                                                ...    \n",
       "Central America and the Caribbean  Djibouti    Cosmetics           0.00\n",
       "                                               Clothes             0.00\n",
       "                                               Cereal              0.00\n",
       "                                               Beverages           0.00\n",
       "Sub-Saharan Africa                 The Gambia  Vegetables          0.00\n",
       "Name: Total Profit, Length: 336, dtype: float64"
      ]
     },
     "execution_count": 45,
     "metadata": {},
     "output_type": "execute_result"
    }
   ],
   "source": [
    "def year_wise_unit_sold(year):\n",
    "    new_df = df[df['Order Date'].dt.year == year]\n",
    "\n",
    "    return new_df.groupby(['Region',\"Country\",'Item Type'])['Total Profit'].sum().sort_values(ascending=False)\n",
    "\n",
    "year_wise_unit_sold(2017)"
   ]
  },
  {
   "cell_type": "code",
   "execution_count": null,
   "id": "ba1e811e-3716-47ad-a2f6-3e2155b1f00b",
   "metadata": {},
   "outputs": [],
   "source": []
  },
  {
   "cell_type": "code",
   "execution_count": null,
   "id": "1f594b60-b670-4ee2-8533-3fcdef00a954",
   "metadata": {},
   "outputs": [],
   "source": []
  },
  {
   "cell_type": "code",
   "execution_count": null,
   "id": "c02433f8-8fc1-4c26-ac52-624d5075dd47",
   "metadata": {},
   "outputs": [],
   "source": []
  }
 ],
 "metadata": {
  "kernelspec": {
   "display_name": "Python 3 (ipykernel)",
   "language": "python",
   "name": "python3"
  },
  "language_info": {
   "codemirror_mode": {
    "name": "ipython",
    "version": 3
   },
   "file_extension": ".py",
   "mimetype": "text/x-python",
   "name": "python",
   "nbconvert_exporter": "python",
   "pygments_lexer": "ipython3",
   "version": "3.11.7"
  }
 },
 "nbformat": 4,
 "nbformat_minor": 5
}
